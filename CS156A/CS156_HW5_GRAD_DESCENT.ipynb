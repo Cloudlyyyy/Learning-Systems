{
  "nbformat": 4,
  "nbformat_minor": 0,
  "metadata": {
    "colab": {
      "provenance": []
    },
    "kernelspec": {
      "name": "python3",
      "display_name": "Python 3"
    },
    "language_info": {
      "name": "python"
    }
  },
  "cells": [
    {
      "cell_type": "code",
      "source": [
        "import numpy"
      ],
      "metadata": {
        "id": "Xs-KmdwGARMm"
      },
      "execution_count": 12,
      "outputs": []
    },
    {
      "cell_type": "code",
      "execution_count": 13,
      "metadata": {
        "id": "pCCMgyTkAAio"
      },
      "outputs": [],
      "source": [
        "def u_function(u,v):\n",
        "  return 2 * (numpy.exp(v) + 2 * v * numpy.exp(-u)) * (u * numpy.exp(v) - 2 * v * numpy.exp(-u))\n",
        "\n",
        "def v_function(u,v):\n",
        "  return 2 * (u * numpy.exp(v) - 2 * numpy.exp(-u)) * (u * numpy.exp(v) - 2 * v * numpy.exp(-u))\n",
        "\n",
        "def error_function(u,v):\n",
        "  return (u * numpy.exp(v) - 2 * v * numpy.exp(-u))**2\n",
        "\n",
        "def grad_descent():\n",
        "   u = 1\n",
        "   v = 1\n",
        "   counter = 0\n",
        "   max = 10**-14\n",
        "   weight = []\n",
        "   learn_rate = 0.1\n",
        "   err_func = error_function(u,v)\n",
        "\n",
        "   while (err_func > max):\n",
        "      u_1 = u_function(u,v)\n",
        "      v_1 = v_function(u,v)\n",
        "      u -= (u_1 * learn_rate)\n",
        "      v -= (v_1 * learn_rate)\n",
        "      err_func = error_function(u,v)\n",
        "      counter += 1\n",
        "\n",
        "   weight.append(u)\n",
        "   weight.append(v)\n",
        "\n",
        "   return counter, weight\n",
        "\n",
        "def grad_descent_p7():\n",
        "   u = 1\n",
        "   v = 1\n",
        "   iter = 15\n",
        "   counter = 0\n",
        "   learn_rate = 0.1\n",
        "\n",
        "   while (counter < iter):\n",
        "      u_1 = u_function(u,v)\n",
        "      u -= (u_function(u,v) * learn_rate)\n",
        "      v_1 = v_function(u,v)\n",
        "      v -= (v_1 * learn_rate)\n",
        "      counter += 1\n",
        "\n",
        "   return error_function(u,v)"
      ]
    },
    {
      "cell_type": "code",
      "source": [
        "print(grad_descent())\n",
        "print(grad_descent_p7())"
      ],
      "metadata": {
        "colab": {
          "base_uri": "https://localhost:8080/"
        },
        "id": "DnkkRVs5AUJV",
        "outputId": "166075a6-2669-40b0-cbee-c8ca3ffda5f6"
      },
      "execution_count": 14,
      "outputs": [
        {
          "output_type": "stream",
          "name": "stdout",
          "text": [
            "(10, [0.04473629039778207, 0.023958714099141746])\n",
            "0.13981379199615315\n"
          ]
        }
      ]
    },
    {
      "cell_type": "markdown",
      "source": [],
      "metadata": {
        "id": "04nRZiK9AT_k"
      }
    }
  ]
}