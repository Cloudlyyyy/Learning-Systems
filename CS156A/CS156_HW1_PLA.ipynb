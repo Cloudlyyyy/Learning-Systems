{
  "nbformat": 4,
  "nbformat_minor": 0,
  "metadata": {
    "colab": {
      "provenance": []
    },
    "kernelspec": {
      "name": "python3",
      "display_name": "Python 3"
    },
    "language_info": {
      "name": "python"
    }
  },
  "cells": [
    {
      "cell_type": "code",
      "source": [
        "import random\n",
        "import numpy"
      ],
      "metadata": {
        "id": "WAM5GIXC8tTs"
      },
      "execution_count": 1,
      "outputs": []
    },
    {
      "cell_type": "code",
      "execution_count": 2,
      "metadata": {
        "id": "jWvEKHs_7W9k"
      },
      "outputs": [],
      "source": [
        "def perceptron(N):\n",
        "\n",
        "    # create two random points\n",
        "\n",
        "    pt_1 = [random.uniform(-1,1), random.uniform(-1,1)]\n",
        "    pt_2 = [random.uniform(-1,1), random.uniform(-1,1)]\n",
        "\n",
        "    # calculate slope using formula = (y2 - y1) / (x2 - x1)\n",
        "\n",
        "    m = (pt_2[1] - pt_1[1]) / (pt_2[0] - pt_1[0])\n",
        "\n",
        "    # calculate y-int = b = y1 - mx1\n",
        "\n",
        "    b = pt_1[1] - (m * pt_1[0])\n",
        "\n",
        "    lst_scores = []\n",
        "\n",
        "    for i in range(N):\n",
        "\n",
        "        # create random point\n",
        "\n",
        "        x_n = random.uniform(-1,1)\n",
        "        y_n = random.uniform(-1,1)\n",
        "\n",
        "        # initializing\n",
        "\n",
        "        tup = (1, x_n, y_n)\n",
        "        score = 0\n",
        "\n",
        "        # scoring\n",
        "\n",
        "        if ((m * x_n) + b) > y_n:\n",
        "            score = 1\n",
        "        if ((m * x_n) + b) < y_n:\n",
        "            score = -1\n",
        "\n",
        "        # add score to list\n",
        "\n",
        "        lst_scores.append((tup, score))\n",
        "\n",
        "    weight = [0,0,0]\n",
        "    iteration = 0\n",
        "\n",
        "    while True:\n",
        "\n",
        "        # get missclassified points\n",
        "\n",
        "        miss_point = []\n",
        "\n",
        "        for point,score in lst_scores:\n",
        "\n",
        "            # dot product of point and weight\n",
        "\n",
        "            value = int(numpy.sign((point[0] * weight[0]) + (point[1] * weight[1]) + (point[2] * weight[2])))\n",
        "\n",
        "            if value != score:\n",
        "                miss_point.append((point, score))\n",
        "\n",
        "        if len(miss_point) > 0:\n",
        "\n",
        "            # updating weight\n",
        "\n",
        "            iteration += 1\n",
        "            p,s = random.choice(miss_point)\n",
        "            weight = [(weight[0] + (s * p[0])), (weight[1] + (s * p[1])), (weight[2] + (s * p[2]))]\n",
        "        else:\n",
        "            return iteration, weight, m, b\n",
        "\n",
        "def answers():\n",
        "    num_iter = []\n",
        "    list_disagreement = []\n",
        "    num_point = 100\n",
        "    num_rand_point = 100\n",
        "    for i in range(1000):\n",
        "        iteration, weight, m, b = perceptron(num_point)\n",
        "        num_iter.append(iteration)\n",
        "        disagree = 0\n",
        "        for ele in range(num_rand_point):\n",
        "            x_n = random.uniform(-1,1)\n",
        "            y_n = random.uniform(-1,1)\n",
        "            point = (1, x_n, y_n)\n",
        "            score = 0\n",
        "            if ((m * x_n) + b) > y_n:\n",
        "                score = 1\n",
        "            if ((m * x_n) + b) < y_n:\n",
        "                score = -1\n",
        "            value = int(numpy.sign((point[0] * weight[0]) + (point[1] * weight[1]) + (point[2] * weight[2])))\n",
        "            if value != score:\n",
        "                disagree += 1\n",
        "        list_disagreement.append(disagree / num_rand_point)\n",
        "\n",
        "    return sum(num_iter) / len(num_iter) , sum(list_disagreement) / len(list_disagreement)\n"
      ]
    },
    {
      "cell_type": "code",
      "source": [
        "print(answers())"
      ],
      "metadata": {
        "colab": {
          "base_uri": "https://localhost:8080/"
        },
        "id": "VLfNYouy82n8",
        "outputId": "7a9f6554-4ed3-4f9d-df56-448a2b1c802e"
      },
      "execution_count": 3,
      "outputs": [
        {
          "output_type": "stream",
          "name": "stdout",
          "text": [
            "(102.247, 0.01346999999999987)\n"
          ]
        }
      ]
    }
  ]
}