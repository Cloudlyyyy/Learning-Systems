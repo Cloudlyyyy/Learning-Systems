{
  "nbformat": 4,
  "nbformat_minor": 0,
  "metadata": {
    "colab": {
      "provenance": []
    },
    "kernelspec": {
      "name": "python3",
      "display_name": "Python 3"
    },
    "language_info": {
      "name": "python"
    }
  },
  "cells": [
    {
      "cell_type": "code",
      "execution_count": 6,
      "metadata": {
        "id": "LcYvg7mN93bC"
      },
      "outputs": [],
      "source": [
        "import random\n",
        "import math\n",
        "import scipy\n",
        "import numpy as np\n",
        "from tqdm import tqdm"
      ]
    },
    {
      "cell_type": "code",
      "source": [
        "def bias_and_variance():\n",
        "\n",
        "    sum_a = 0\n",
        "    a_hat = 0\n",
        "    a_var = 0\n",
        "\n",
        "    for i in tqdm(range(10000)):\n",
        "\n",
        "        x_1 = random.uniform(-1,1)\n",
        "        x_2 = random.uniform(-1,1)\n",
        "\n",
        "        y_1 = math.sin(math.pi * x_1)\n",
        "        y_2 = math.sin(math.pi * x_2)\n",
        "\n",
        "        a = ((x_1 * y_1) + (x_2 * y_2)) / ((x_1**2) + (x_2**2))\n",
        "        a_var = (a * x_1 - 1.42 * x_1)**2\n",
        "        sum_a += a_var\n",
        "\n",
        "    a_var = sum_a / 10000\n",
        "    return a_var\n",
        "\n",
        "print(bias_and_variance())\n",
        "\n",
        "\n",
        "def g(x,a,b):\n",
        "    return a*(x**2)+b\n",
        "\n",
        "for i in tqdm(range(10000)):\n",
        "\n",
        "    x_1 = random.uniform(-1,1)\n",
        "    x_2 = random.uniform(-1,1)\n",
        "\n",
        "    x_arr = [x_1, x_2]\n",
        "    y_arr = []\n",
        "\n",
        "    for i in range(2):\n",
        "        y_arr.append(np.sin(x_arr[i]*np.pi))\n",
        "\n",
        "    coeff = scipy.optimize.curve_fit(g, x_arr, y_arr)\n",
        "    sum_eout = 0\n",
        "\n",
        "    for i in range(1000):\n",
        "        x_1 = random.uniform(-1,1)\n",
        "        x_2 = random.uniform(-1,1)\n",
        "\n",
        "        x_arr = [x_1, x_2]\n",
        "\n",
        "        a = coeff[0][0]\n",
        "        b = coeff[0][1]\n",
        "\n",
        "        # e_out = (ax-b - sinpix)^2\n",
        "        for i in range(100):\n",
        "            x = random.uniform(-1,1)\n",
        "\n",
        "        e_out = ((a * x - b) - math.sin(math.pi * x))**2\n",
        "\n",
        "    sum_eout += e_out"
      ],
      "metadata": {
        "colab": {
          "base_uri": "https://localhost:8080/"
        },
        "collapsed": true,
        "id": "1Q4h6Cdt-GKq",
        "outputId": "113afc7a-e39f-4b02-a86c-5676fdf3a341"
      },
      "execution_count": 7,
      "outputs": [
        {
          "output_type": "stream",
          "name": "stderr",
          "text": [
            "100%|██████████| 10000/10000 [07:04<00:00, 23.57it/s]\n"
          ]
        }
      ]
    },
    {
      "cell_type": "code",
      "source": [
        "print(sum_eout / 1000000)"
      ],
      "metadata": {
        "colab": {
          "base_uri": "https://localhost:8080/"
        },
        "id": "-NeosVNq-KnG",
        "outputId": "076648ad-6bb2-445e-c3a9-efbd17c08799"
      },
      "execution_count": 8,
      "outputs": [
        {
          "output_type": "stream",
          "name": "stdout",
          "text": [
            "1.4512714286505064e-06\n"
          ]
        }
      ]
    }
  ]
}