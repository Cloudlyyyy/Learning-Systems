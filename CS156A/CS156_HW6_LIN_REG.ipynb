{
  "nbformat": 4,
  "nbformat_minor": 0,
  "metadata": {
    "colab": {
      "provenance": []
    },
    "kernelspec": {
      "name": "python3",
      "display_name": "Python 3"
    },
    "language_info": {
      "name": "python"
    }
  },
  "cells": [
    {
      "cell_type": "code",
      "source": [
        "import pandas as pd\n",
        "import numpy\n",
        "import math"
      ],
      "metadata": {
        "id": "T4FjxncRHHNR"
      },
      "execution_count": 2,
      "outputs": []
    },
    {
      "cell_type": "code",
      "execution_count": 8,
      "metadata": {
        "colab": {
          "base_uri": "https://localhost:8080/"
        },
        "id": "Kjsmf3GWGvNL",
        "outputId": "d2f12be2-5052-4331-91dd-dbee62b545bf"
      },
      "outputs": [
        {
          "output_type": "stream",
          "name": "stdout",
          "text": [
            "0.02857142857142857\n"
          ]
        }
      ],
      "source": [
        "df1 = pd.read_table('https://home.work.caltech.edu/data/in.dta', delim_whitespace = True, header = None)\n",
        "\n",
        "xcoord = [];\n",
        "nonlin = [];\n",
        "ylist = [];\n",
        "\n",
        "for row in range(len(df1)):\n",
        "  x1x2 = (df1.iloc[row][0], df1.iloc[row][1], df1.iloc[row][2])\n",
        "  xcoord.append(x1x2)\n",
        "\n",
        "# preform non-linear transformation\n",
        "for x in range(len(xcoord)):\n",
        "  x1 = xcoord[x][0]\n",
        "  x2 = xcoord[x][1]\n",
        "  y = xcoord[x][2]\n",
        "  ylist.append(y)\n",
        "  nonlinalg = [1, x1, x2, x1**2, x2**2, x1*x2, abs(x1-x2), abs(x1+x2)]\n",
        "  nonlin.append(nonlinalg)# run linear regression\n",
        "\n",
        "# calculate number of misclassified points for df1\n",
        "misclassified = 0\n",
        "for i in range(len(nonlin)):\n",
        "\n",
        "  if (numpy.sign(numpy.matmul(weight, nonlin[i])) != ylist[i]):\n",
        "    misclassified+=1\n",
        "\n",
        "# ein\n",
        "print(misclassified/len(df1))"
      ]
    },
    {
      "cell_type": "code",
      "source": [
        "# run linear regression\n",
        "pseudoin = numpy.linalg.pinv(nonlin)\n",
        "weight = numpy.matmul(pseudoin, ylist)"
      ],
      "metadata": {
        "id": "iBke1HzPHEgw"
      },
      "execution_count": 9,
      "outputs": []
    },
    {
      "cell_type": "code",
      "source": [
        "df2 = pd.read_table('https://home.work.caltech.edu/data/out.dta', delim_whitespace = True, header = None)\n",
        "\n",
        "x_coord_out = [];\n",
        "nonlintrans_out = [];\n",
        "y_list_out = [];\n",
        "\n",
        "# preform non-linear transformation\n",
        "for x in range(len(df2)):\n",
        "  x_1 = df2.iloc[x][0]\n",
        "  x_2 = df2.iloc[x][1]\n",
        "  y_weight = df2.iloc[x][2]\n",
        "  y_list_out.append(y_weight)\n",
        "  nonlin_out = [1, x_1, x_2, x_1**2, x_2**2, x_1*x_2, abs(x_1-x_2), abs(x_1+x_2)]\n",
        "  nonlintrans_out.append(nonlin_out)\n",
        "\n",
        "# calculate number of misclassified points for df2\n",
        "mis_point = 0\n",
        "for i in range(len(nonlintrans_out)):\n",
        "  if numpy.sign(numpy.matmul(weight,nonlintrans_out[i])) != y_list_out[i]:\n",
        "    mis_point+=1\n",
        "\n",
        "# eout\n",
        "print(mis_point/len(df2))"
      ],
      "metadata": {
        "colab": {
          "base_uri": "https://localhost:8080/"
        },
        "id": "52P2Am4_Hvas",
        "outputId": "38fd6696-be1f-4d4f-c784-e41e64e1aeb1"
      },
      "execution_count": 10,
      "outputs": [
        {
          "output_type": "stream",
          "name": "stdout",
          "text": [
            "0.084\n"
          ]
        }
      ]
    },
    {
      "cell_type": "code",
      "source": [
        "# run linear regression\n",
        "lambda_sym = 10**-2\n",
        "x_transpose = numpy.matrix.transpose(numpy.array(nonlin))\n",
        "size = numpy.shape(numpy.matmul(x_transpose, numpy.array(nonlin)))\n",
        "w = numpy.matmul(numpy.linalg.inv(numpy.matmul(x_transpose, nonlin) + (lambda_sym * numpy.identity(size[0]))), numpy.matmul(x_transpose, ylist))\n",
        "\n",
        "print(w)"
      ],
      "metadata": {
        "colab": {
          "base_uri": "https://localhost:8080/"
        },
        "id": "dazovDDbIKzx",
        "outputId": "4d9e914d-a27f-4da6-c4f3-bc8d694c7d1a"
      },
      "execution_count": 11,
      "outputs": [
        {
          "output_type": "stream",
          "name": "stdout",
          "text": [
            "[-1.61015542 -0.12868699  0.10069025 -1.95218948 -1.72367067  2.24053348\n",
            "  3.98096905  0.34204144]\n"
          ]
        }
      ]
    }
  ]
}